{
 "cells": [
  {
   "cell_type": "markdown",
   "id": "saved-instrumentation",
   "metadata": {},
   "source": [
    "## OCSP usage"
   ]
  },
  {
   "cell_type": "markdown",
   "id": "configured-detector",
   "metadata": {},
   "source": [
    "### Import libraries"
   ]
  },
  {
   "cell_type": "code",
   "execution_count": 1,
   "id": "common-horror",
   "metadata": {},
   "outputs": [],
   "source": [
    "import os\n",
    "import pandas as pd \n",
    "import numpy as np\n",
    "from lxml import etree \n",
    "pd.set_option('display.max_columns', None)\n",
    "pd.options.display.max_colwidth = 200\n",
    "import os\n",
    "import glob\n",
    "import time\n",
    "import re\n",
    "import datetime\n",
    "import matplotlib.pyplot as plt\n",
    "import seaborn as sns\n",
    "import itertools\n",
    "import matplotlib.patches as mpatches\n",
    "import shutil\n",
    "from IPython.display import clear_output\n",
    "pd.set_option('display.max_rows', 500)\n",
    "from manuf import manuf\n",
    "from user_agents import parse\n",
    "import dataframe_image as dfi\n",
    "import tldextract"
   ]
  },
  {
   "cell_type": "markdown",
   "id": "flexible-membership",
   "metadata": {},
   "source": [
    "### Readin dataset"
   ]
  },
  {
   "cell_type": "code",
   "execution_count": 3,
   "id": "complimentary-briefing",
   "metadata": {},
   "outputs": [],
   "source": [
    "dev = pd.read_csv(\"../datasets/2014dev_with_dist2lib.csv\")"
   ]
  },
  {
   "cell_type": "code",
   "execution_count": 4,
   "id": "focused-reality",
   "metadata": {},
   "outputs": [],
   "source": [
    "ocsp = dev[['device_id', 'device_vendor', 'extension_types']]"
   ]
  },
  {
   "cell_type": "code",
   "execution_count": 5,
   "id": "virgin-expansion",
   "metadata": {},
   "outputs": [
    {
     "name": "stderr",
     "output_type": "stream",
     "text": [
      "<ipython-input-5-73126371e930>:1: SettingWithCopyWarning: \n",
      "A value is trying to be set on a copy of a slice from a DataFrame.\n",
      "Try using .loc[row_indexer,col_indexer] = value instead\n",
      "\n",
      "See the caveats in the documentation: https://pandas.pydata.org/pandas-docs/stable/user_guide/indexing.html#returning-a-view-versus-a-copy\n",
      "  ocsp['extension_types'] = ocsp['extension_types'].fillna(\"missing\")\n",
      "<ipython-input-5-73126371e930>:2: SettingWithCopyWarning: \n",
      "A value is trying to be set on a copy of a slice from a DataFrame.\n",
      "Try using .loc[row_indexer,col_indexer] = value instead\n",
      "\n",
      "See the caveats in the documentation: https://pandas.pydata.org/pandas-docs/stable/user_guide/indexing.html#returning-a-view-versus-a-copy\n",
      "  ocsp['extension'] = ocsp['extension_types'].apply(lambda x: x.split(\"+\"))\n"
     ]
    }
   ],
   "source": [
    "ocsp['extension_types'] = ocsp['extension_types'].fillna(\"missing\")\n",
    "ocsp['extension'] = ocsp['extension_types'].apply(lambda x: x.split(\"+\"))"
   ]
  },
  {
   "cell_type": "markdown",
   "id": "general-arrangement",
   "metadata": {},
   "source": [
    "### Analysis on OCSP usage"
   ]
  },
  {
   "cell_type": "code",
   "execution_count": 8,
   "id": "substantial-ordering",
   "metadata": {},
   "outputs": [],
   "source": [
    "ocsp = ocsp.explode('extension')"
   ]
  },
  {
   "cell_type": "code",
   "execution_count": 9,
   "id": "compound-shark",
   "metadata": {},
   "outputs": [
    {
     "data": {
      "text/html": [
       "<div>\n",
       "<style scoped>\n",
       "    .dataframe tbody tr th:only-of-type {\n",
       "        vertical-align: middle;\n",
       "    }\n",
       "\n",
       "    .dataframe tbody tr th {\n",
       "        vertical-align: top;\n",
       "    }\n",
       "\n",
       "    .dataframe thead th {\n",
       "        text-align: right;\n",
       "    }\n",
       "</style>\n",
       "<table border=\"1\" class=\"dataframe\">\n",
       "  <thead>\n",
       "    <tr style=\"text-align: right;\">\n",
       "      <th></th>\n",
       "      <th>device_id</th>\n",
       "      <th>device_vendor</th>\n",
       "      <th>extension_types</th>\n",
       "      <th>extension</th>\n",
       "    </tr>\n",
       "  </thead>\n",
       "  <tbody>\n",
       "    <tr>\n",
       "      <th>1745</th>\n",
       "      <td>s44ecd8086e</td>\n",
       "      <td>google</td>\n",
       "      <td>23+65281+10+11+35+16+5+13+18+51+45+43+27+21</td>\n",
       "      <td>13</td>\n",
       "    </tr>\n",
       "  </tbody>\n",
       "</table>\n",
       "</div>"
      ],
      "text/plain": [
       "        device_id device_vendor                              extension_types  \\\n",
       "1745  s44ecd8086e        google  23+65281+10+11+35+16+5+13+18+51+45+43+27+21   \n",
       "\n",
       "     extension  \n",
       "1745        13  "
      ]
     },
     "execution_count": 9,
     "metadata": {},
     "output_type": "execute_result"
    }
   ],
   "source": [
    "ocsp.sample(1)"
   ]
  },
  {
   "cell_type": "code",
   "execution_count": 10,
   "id": "ancient-science",
   "metadata": {},
   "outputs": [],
   "source": [
    "ocsp = ocsp.drop_duplicates(['device_id', 'device_vendor', 'extension'])[['device_id', 'device_vendor', 'extension']]"
   ]
  },
  {
   "cell_type": "code",
   "execution_count": 11,
   "id": "understood-roots",
   "metadata": {},
   "outputs": [
    {
     "data": {
      "text/plain": [
       "(17528, 3)"
      ]
     },
     "execution_count": 11,
     "metadata": {},
     "output_type": "execute_result"
    }
   ],
   "source": [
    "ocsp.shape"
   ]
  },
  {
   "cell_type": "code",
   "execution_count": 12,
   "id": "substantial-heritage",
   "metadata": {},
   "outputs": [
    {
     "data": {
      "text/html": [
       "<div>\n",
       "<style scoped>\n",
       "    .dataframe tbody tr th:only-of-type {\n",
       "        vertical-align: middle;\n",
       "    }\n",
       "\n",
       "    .dataframe tbody tr th {\n",
       "        vertical-align: top;\n",
       "    }\n",
       "\n",
       "    .dataframe thead th {\n",
       "        text-align: right;\n",
       "    }\n",
       "</style>\n",
       "<table border=\"1\" class=\"dataframe\">\n",
       "  <thead>\n",
       "    <tr style=\"text-align: right;\">\n",
       "      <th></th>\n",
       "      <th>device_id</th>\n",
       "      <th>device_vendor</th>\n",
       "      <th>extension</th>\n",
       "    </tr>\n",
       "  </thead>\n",
       "  <tbody>\n",
       "    <tr>\n",
       "      <th>104</th>\n",
       "      <td>s0344aa63f9</td>\n",
       "      <td>google</td>\n",
       "      <td>23</td>\n",
       "    </tr>\n",
       "    <tr>\n",
       "      <th>464</th>\n",
       "      <td>s142e22e7a8</td>\n",
       "      <td>amazon</td>\n",
       "      <td>65281</td>\n",
       "    </tr>\n",
       "  </tbody>\n",
       "</table>\n",
       "</div>"
      ],
      "text/plain": [
       "       device_id device_vendor extension\n",
       "104  s0344aa63f9        google        23\n",
       "464  s142e22e7a8        amazon     65281"
      ]
     },
     "execution_count": 12,
     "metadata": {},
     "output_type": "execute_result"
    }
   ],
   "source": [
    "ocsp.sample(2)"
   ]
  },
  {
   "cell_type": "code",
   "execution_count": 13,
   "id": "bacterial-murray",
   "metadata": {},
   "outputs": [
    {
     "data": {
      "text/plain": [
       "(66,)"
      ]
     },
     "execution_count": 13,
     "metadata": {},
     "output_type": "execute_result"
    }
   ],
   "source": [
    "ocsp['device_vendor'].value_counts().shape"
   ]
  },
  {
   "cell_type": "code",
   "execution_count": 14,
   "id": "compressed-assets",
   "metadata": {},
   "outputs": [],
   "source": [
    "withocsp = ocsp.loc[ocsp['extension'] == '5']"
   ]
  },
  {
   "cell_type": "code",
   "execution_count": 15,
   "id": "fundamental-silver",
   "metadata": {},
   "outputs": [
    {
     "data": {
      "text/plain": [
       "(648,)"
      ]
     },
     "execution_count": 15,
     "metadata": {},
     "output_type": "execute_result"
    }
   ],
   "source": [
    "withocsp['device_id'].value_counts().shape"
   ]
  },
  {
   "cell_type": "code",
   "execution_count": 16,
   "id": "cardiac-humidity",
   "metadata": {},
   "outputs": [
    {
     "data": {
      "text/plain": [
       "(34,)"
      ]
     },
     "execution_count": 16,
     "metadata": {},
     "output_type": "execute_result"
    }
   ],
   "source": [
    "withocsp['device_vendor'].value_counts().shape"
   ]
  },
  {
   "cell_type": "code",
   "execution_count": 17,
   "id": "deadly-party",
   "metadata": {},
   "outputs": [],
   "source": [
    "ocsp_cnt = withocsp.groupby('device_vendor')['device_id'].agg(lambda x: x.nunique()).reset_index(name='count')"
   ]
  },
  {
   "cell_type": "code",
   "execution_count": 18,
   "id": "unique-giant",
   "metadata": {},
   "outputs": [],
   "source": [
    "dev_total = dev.groupby('device_vendor')['device_id'].agg(lambda x: x.nunique()).reset_index(name='total')"
   ]
  },
  {
   "cell_type": "code",
   "execution_count": 19,
   "id": "encouraging-comparison",
   "metadata": {},
   "outputs": [],
   "source": [
    "df_merge = pd.merge(dev_total, ocsp_cnt, on='device_vendor', how='inner')"
   ]
  },
  {
   "cell_type": "code",
   "execution_count": 20,
   "id": "moving-magnet",
   "metadata": {},
   "outputs": [],
   "source": [
    "df_merge['perc'] = df_merge['count'] / df_merge['total']"
   ]
  },
  {
   "cell_type": "code",
   "execution_count": 21,
   "id": "psychological-spectacular",
   "metadata": {},
   "outputs": [
    {
     "data": {
      "text/html": [
       "<div>\n",
       "<style scoped>\n",
       "    .dataframe tbody tr th:only-of-type {\n",
       "        vertical-align: middle;\n",
       "    }\n",
       "\n",
       "    .dataframe tbody tr th {\n",
       "        vertical-align: top;\n",
       "    }\n",
       "\n",
       "    .dataframe thead th {\n",
       "        text-align: right;\n",
       "    }\n",
       "</style>\n",
       "<table border=\"1\" class=\"dataframe\">\n",
       "  <thead>\n",
       "    <tr style=\"text-align: right;\">\n",
       "      <th></th>\n",
       "      <th>device_vendor</th>\n",
       "      <th>total</th>\n",
       "      <th>count</th>\n",
       "      <th>perc</th>\n",
       "    </tr>\n",
       "  </thead>\n",
       "  <tbody>\n",
       "    <tr>\n",
       "      <th>17</th>\n",
       "      <td>pioneer</td>\n",
       "      <td>4</td>\n",
       "      <td>4</td>\n",
       "      <td>1.000000</td>\n",
       "    </tr>\n",
       "    <tr>\n",
       "      <th>13</th>\n",
       "      <td>nvidia</td>\n",
       "      <td>22</td>\n",
       "      <td>22</td>\n",
       "      <td>1.000000</td>\n",
       "    </tr>\n",
       "    <tr>\n",
       "      <th>2</th>\n",
       "      <td>cisco</td>\n",
       "      <td>1</td>\n",
       "      <td>1</td>\n",
       "      <td>1.000000</td>\n",
       "    </tr>\n",
       "    <tr>\n",
       "      <th>3</th>\n",
       "      <td>fing</td>\n",
       "      <td>6</td>\n",
       "      <td>6</td>\n",
       "      <td>1.000000</td>\n",
       "    </tr>\n",
       "    <tr>\n",
       "      <th>28</th>\n",
       "      <td>unknown</td>\n",
       "      <td>1</td>\n",
       "      <td>1</td>\n",
       "      <td>1.000000</td>\n",
       "    </tr>\n",
       "    <tr>\n",
       "      <th>27</th>\n",
       "      <td>ubiquity</td>\n",
       "      <td>1</td>\n",
       "      <td>1</td>\n",
       "      <td>1.000000</td>\n",
       "    </tr>\n",
       "    <tr>\n",
       "      <th>7</th>\n",
       "      <td>idevices</td>\n",
       "      <td>1</td>\n",
       "      <td>1</td>\n",
       "      <td>1.000000</td>\n",
       "    </tr>\n",
       "    <tr>\n",
       "      <th>24</th>\n",
       "      <td>tesla</td>\n",
       "      <td>5</td>\n",
       "      <td>5</td>\n",
       "      <td>1.000000</td>\n",
       "    </tr>\n",
       "    <tr>\n",
       "      <th>1</th>\n",
       "      <td>amcrest</td>\n",
       "      <td>1</td>\n",
       "      <td>1</td>\n",
       "      <td>1.000000</td>\n",
       "    </tr>\n",
       "    <tr>\n",
       "      <th>14</th>\n",
       "      <td>onkyo</td>\n",
       "      <td>7</td>\n",
       "      <td>7</td>\n",
       "      <td>1.000000</td>\n",
       "    </tr>\n",
       "    <tr>\n",
       "      <th>4</th>\n",
       "      <td>google</td>\n",
       "      <td>467</td>\n",
       "      <td>385</td>\n",
       "      <td>0.824411</td>\n",
       "    </tr>\n",
       "    <tr>\n",
       "      <th>8</th>\n",
       "      <td>insignia</td>\n",
       "      <td>8</td>\n",
       "      <td>6</td>\n",
       "      <td>0.750000</td>\n",
       "    </tr>\n",
       "    <tr>\n",
       "      <th>11</th>\n",
       "      <td>lutron</td>\n",
       "      <td>7</td>\n",
       "      <td>5</td>\n",
       "      <td>0.714286</td>\n",
       "    </tr>\n",
       "    <tr>\n",
       "      <th>33</th>\n",
       "      <td>xiaomi</td>\n",
       "      <td>13</td>\n",
       "      <td>9</td>\n",
       "      <td>0.692308</td>\n",
       "    </tr>\n",
       "    <tr>\n",
       "      <th>20</th>\n",
       "      <td>samsung</td>\n",
       "      <td>86</td>\n",
       "      <td>56</td>\n",
       "      <td>0.651163</td>\n",
       "    </tr>\n",
       "    <tr>\n",
       "      <th>29</th>\n",
       "      <td>vizio</td>\n",
       "      <td>19</td>\n",
       "      <td>12</td>\n",
       "      <td>0.631579</td>\n",
       "    </tr>\n",
       "    <tr>\n",
       "      <th>25</th>\n",
       "      <td>tivo</td>\n",
       "      <td>18</td>\n",
       "      <td>10</td>\n",
       "      <td>0.555556</td>\n",
       "    </tr>\n",
       "    <tr>\n",
       "      <th>9</th>\n",
       "      <td>lg</td>\n",
       "      <td>36</td>\n",
       "      <td>19</td>\n",
       "      <td>0.527778</td>\n",
       "    </tr>\n",
       "    <tr>\n",
       "      <th>30</th>\n",
       "      <td>western digital</td>\n",
       "      <td>6</td>\n",
       "      <td>3</td>\n",
       "      <td>0.500000</td>\n",
       "    </tr>\n",
       "    <tr>\n",
       "      <th>5</th>\n",
       "      <td>hp</td>\n",
       "      <td>13</td>\n",
       "      <td>6</td>\n",
       "      <td>0.461538</td>\n",
       "    </tr>\n",
       "    <tr>\n",
       "      <th>22</th>\n",
       "      <td>sony</td>\n",
       "      <td>52</td>\n",
       "      <td>24</td>\n",
       "      <td>0.461538</td>\n",
       "    </tr>\n",
       "    <tr>\n",
       "      <th>15</th>\n",
       "      <td>panasonic</td>\n",
       "      <td>3</td>\n",
       "      <td>1</td>\n",
       "      <td>0.333333</td>\n",
       "    </tr>\n",
       "    <tr>\n",
       "      <th>6</th>\n",
       "      <td>humax</td>\n",
       "      <td>3</td>\n",
       "      <td>1</td>\n",
       "      <td>0.333333</td>\n",
       "    </tr>\n",
       "    <tr>\n",
       "      <th>23</th>\n",
       "      <td>synology</td>\n",
       "      <td>52</td>\n",
       "      <td>12</td>\n",
       "      <td>0.230769</td>\n",
       "    </tr>\n",
       "    <tr>\n",
       "      <th>26</th>\n",
       "      <td>tplink</td>\n",
       "      <td>29</td>\n",
       "      <td>5</td>\n",
       "      <td>0.172414</td>\n",
       "    </tr>\n",
       "    <tr>\n",
       "      <th>16</th>\n",
       "      <td>philips</td>\n",
       "      <td>36</td>\n",
       "      <td>4</td>\n",
       "      <td>0.111111</td>\n",
       "    </tr>\n",
       "    <tr>\n",
       "      <th>18</th>\n",
       "      <td>qnap</td>\n",
       "      <td>18</td>\n",
       "      <td>2</td>\n",
       "      <td>0.111111</td>\n",
       "    </tr>\n",
       "    <tr>\n",
       "      <th>31</th>\n",
       "      <td>wink</td>\n",
       "      <td>10</td>\n",
       "      <td>1</td>\n",
       "      <td>0.100000</td>\n",
       "    </tr>\n",
       "    <tr>\n",
       "      <th>12</th>\n",
       "      <td>netgear</td>\n",
       "      <td>12</td>\n",
       "      <td>1</td>\n",
       "      <td>0.083333</td>\n",
       "    </tr>\n",
       "    <tr>\n",
       "      <th>0</th>\n",
       "      <td>amazon</td>\n",
       "      <td>521</td>\n",
       "      <td>29</td>\n",
       "      <td>0.055662</td>\n",
       "    </tr>\n",
       "    <tr>\n",
       "      <th>21</th>\n",
       "      <td>sonos</td>\n",
       "      <td>126</td>\n",
       "      <td>5</td>\n",
       "      <td>0.039683</td>\n",
       "    </tr>\n",
       "    <tr>\n",
       "      <th>10</th>\n",
       "      <td>logitech</td>\n",
       "      <td>44</td>\n",
       "      <td>1</td>\n",
       "      <td>0.022727</td>\n",
       "    </tr>\n",
       "    <tr>\n",
       "      <th>32</th>\n",
       "      <td>wyze</td>\n",
       "      <td>75</td>\n",
       "      <td>1</td>\n",
       "      <td>0.013333</td>\n",
       "    </tr>\n",
       "    <tr>\n",
       "      <th>19</th>\n",
       "      <td>roku</td>\n",
       "      <td>109</td>\n",
       "      <td>1</td>\n",
       "      <td>0.009174</td>\n",
       "    </tr>\n",
       "  </tbody>\n",
       "</table>\n",
       "</div>"
      ],
      "text/plain": [
       "      device_vendor  total  count      perc\n",
       "17          pioneer      4      4  1.000000\n",
       "13           nvidia     22     22  1.000000\n",
       "2             cisco      1      1  1.000000\n",
       "3              fing      6      6  1.000000\n",
       "28          unknown      1      1  1.000000\n",
       "27         ubiquity      1      1  1.000000\n",
       "7          idevices      1      1  1.000000\n",
       "24            tesla      5      5  1.000000\n",
       "1           amcrest      1      1  1.000000\n",
       "14            onkyo      7      7  1.000000\n",
       "4            google    467    385  0.824411\n",
       "8          insignia      8      6  0.750000\n",
       "11           lutron      7      5  0.714286\n",
       "33           xiaomi     13      9  0.692308\n",
       "20          samsung     86     56  0.651163\n",
       "29            vizio     19     12  0.631579\n",
       "25             tivo     18     10  0.555556\n",
       "9                lg     36     19  0.527778\n",
       "30  western digital      6      3  0.500000\n",
       "5                hp     13      6  0.461538\n",
       "22             sony     52     24  0.461538\n",
       "15        panasonic      3      1  0.333333\n",
       "6             humax      3      1  0.333333\n",
       "23         synology     52     12  0.230769\n",
       "26           tplink     29      5  0.172414\n",
       "16          philips     36      4  0.111111\n",
       "18             qnap     18      2  0.111111\n",
       "31             wink     10      1  0.100000\n",
       "12          netgear     12      1  0.083333\n",
       "0            amazon    521     29  0.055662\n",
       "21            sonos    126      5  0.039683\n",
       "10         logitech     44      1  0.022727\n",
       "32             wyze     75      1  0.013333\n",
       "19             roku    109      1  0.009174"
      ]
     },
     "execution_count": 21,
     "metadata": {},
     "output_type": "execute_result"
    }
   ],
   "source": [
    "df_merge.sort_values(by='perc', ascending=False)"
   ]
  }
 ],
 "metadata": {
  "kernelspec": {
   "display_name": "Python 3",
   "language": "python",
   "name": "python3"
  },
  "language_info": {
   "codemirror_mode": {
    "name": "ipython",
    "version": 3
   },
   "file_extension": ".py",
   "mimetype": "text/x-python",
   "name": "python",
   "nbconvert_exporter": "python",
   "pygments_lexer": "ipython3",
   "version": "3.8.5"
  }
 },
 "nbformat": 4,
 "nbformat_minor": 5
}
