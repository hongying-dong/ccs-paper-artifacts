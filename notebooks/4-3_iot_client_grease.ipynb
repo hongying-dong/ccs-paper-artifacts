{
 "cells": [
  {
   "cell_type": "markdown",
   "id": "dressed-fellowship",
   "metadata": {},
   "source": [
    "## GREASE usage"
   ]
  },
  {
   "cell_type": "markdown",
   "id": "boolean-yukon",
   "metadata": {},
   "source": [
    "### Import libraries"
   ]
  },
  {
   "cell_type": "code",
   "execution_count": 1,
   "id": "muslim-estimate",
   "metadata": {},
   "outputs": [],
   "source": [
    "import os\n",
    "import pandas as pd \n",
    "import numpy as np\n",
    "from lxml import etree \n",
    "pd.set_option('display.max_columns', None)\n",
    "pd.options.display.max_colwidth = 200\n",
    "import os\n",
    "import glob\n",
    "import time\n",
    "import re\n",
    "import datetime\n",
    "import matplotlib.pyplot as plt\n",
    "import seaborn as sns\n",
    "import itertools\n",
    "import matplotlib.patches as mpatches\n",
    "import shutil\n",
    "from IPython.display import clear_output\n",
    "pd.set_option('display.max_rows', 500)\n",
    "from manuf import manuf\n",
    "from user_agents import parse\n",
    "import dataframe_image as dfi\n",
    "import tldextract"
   ]
  },
  {
   "cell_type": "markdown",
   "id": "related-rates",
   "metadata": {},
   "source": [
    "### Readin dataset"
   ]
  },
  {
   "cell_type": "code",
   "execution_count": 2,
   "id": "explicit-faculty",
   "metadata": {},
   "outputs": [],
   "source": [
    "dev_name = pd.read_csv(\"../datasets/2014dev_with_dist2lib.csv\")"
   ]
  },
  {
   "cell_type": "code",
   "execution_count": 3,
   "id": "unexpected-ethernet",
   "metadata": {},
   "outputs": [],
   "source": [
    "names = dev_name[['device_id', 'device_name', 'device_vendor']]"
   ]
  },
  {
   "cell_type": "markdown",
   "id": "fuzzy-essence",
   "metadata": {},
   "source": [
    "### Readin the original IoTInspector dataset"
   ]
  },
  {
   "cell_type": "markdown",
   "id": "vietnamese-tracy",
   "metadata": {},
   "source": [
    "#### Access to tls_handshake1.csv.gz can only be granted with IRB approvals"
   ]
  },
  {
   "cell_type": "markdown",
   "id": "eastern-electron",
   "metadata": {},
   "source": [
    "#### The basic idea is to find out ciphersuite GREASE and extension GREASE usage by looking at the original records"
   ]
  },
  {
   "cell_type": "code",
   "execution_count": null,
   "id": "understood-graduate",
   "metadata": {},
   "outputs": [],
   "source": [
    "data = pd.read_csv('../../tls_handshake1.csv.gz', nrows=10, compression='gzip', error_bad_lines=False)"
   ]
  },
  {
   "cell_type": "code",
   "execution_count": 9,
   "id": "intense-script",
   "metadata": {},
   "outputs": [],
   "source": [
    "chunk_size=200000"
   ]
  },
  {
   "cell_type": "code",
   "execution_count": 11,
   "id": "vanilla-municipality",
   "metadata": {},
   "outputs": [
    {
     "name": "stdout",
     "output_type": "stream",
     "text": [
      "processing  128  ...\n"
     ]
    }
   ],
   "source": [
    "cipher_grease = pd.DataFrame()\n",
    "batch_no=1\n",
    "\n",
    "for chunk in pd.read_csv('../../tls_handshake1.csv.gz',chunksize=chunk_size, compression='gzip', error_bad_lines=False, \\\n",
    "                         usecols=['device_id', 'cipher_suite_uses_grease']): \n",
    "    print (\"processing \", batch_no, \" ...\")\n",
    "\n",
    "    chunk = chunk.loc[chunk['cipher_suite_uses_grease'].notna()]\n",
    "    chunk['device_id'] = chunk['device_id'].apply(lambda x: str(x).replace(' ', ''))\n",
    "    chunk = chunk.drop_duplicates()\n",
    "     \n",
    "    cipher_grease = cipher_grease.append(chunk)\n",
    "    cipher_grease = cipher_grease.drop_duplicates()\n",
    "  \n",
    "    batch_no+=1\n",
    "    clear_output(wait=True)"
   ]
  },
  {
   "cell_type": "code",
   "execution_count": 12,
   "id": "false-kingston",
   "metadata": {},
   "outputs": [
    {
     "data": {
      "text/plain": [
       "(6267, 2)"
      ]
     },
     "execution_count": 12,
     "metadata": {},
     "output_type": "execute_result"
    }
   ],
   "source": [
    "cipher_grease.shape"
   ]
  },
  {
   "cell_type": "code",
   "execution_count": 13,
   "id": "adolescent-bottom",
   "metadata": {},
   "outputs": [
    {
     "data": {
      "text/plain": [
       "(6267,)"
      ]
     },
     "execution_count": 13,
     "metadata": {},
     "output_type": "execute_result"
    }
   ],
   "source": [
    "cipher_grease['device_id'].value_counts().shape"
   ]
  },
  {
   "cell_type": "code",
   "execution_count": 17,
   "id": "appreciated-vatican",
   "metadata": {},
   "outputs": [],
   "source": [
    "cipher_grease_merge = pd.merge(cipher_grease, names, on='device_id', how='inner')"
   ]
  },
  {
   "cell_type": "code",
   "execution_count": 18,
   "id": "insured-facial",
   "metadata": {},
   "outputs": [
    {
     "data": {
      "text/plain": [
       "(501,)"
      ]
     },
     "execution_count": 18,
     "metadata": {},
     "output_type": "execute_result"
    }
   ],
   "source": [
    "cipher_grease_merge['device_id'].value_counts().shape"
   ]
  },
  {
   "cell_type": "code",
   "execution_count": 21,
   "id": "dated-pasta",
   "metadata": {},
   "outputs": [
    {
     "data": {
      "text/html": [
       "<div>\n",
       "<style scoped>\n",
       "    .dataframe tbody tr th:only-of-type {\n",
       "        vertical-align: middle;\n",
       "    }\n",
       "\n",
       "    .dataframe tbody tr th {\n",
       "        vertical-align: top;\n",
       "    }\n",
       "\n",
       "    .dataframe thead th {\n",
       "        text-align: right;\n",
       "    }\n",
       "</style>\n",
       "<table border=\"1\" class=\"dataframe\">\n",
       "  <thead>\n",
       "    <tr style=\"text-align: right;\">\n",
       "      <th></th>\n",
       "      <th>device_vendor</th>\n",
       "      <th>num_unique_dev</th>\n",
       "    </tr>\n",
       "  </thead>\n",
       "  <tbody>\n",
       "    <tr>\n",
       "      <th>3</th>\n",
       "      <td>google</td>\n",
       "      <td>379</td>\n",
       "    </tr>\n",
       "    <tr>\n",
       "      <th>0</th>\n",
       "      <td>amazon</td>\n",
       "      <td>22</td>\n",
       "    </tr>\n",
       "    <tr>\n",
       "      <th>14</th>\n",
       "      <td>samsung</td>\n",
       "      <td>20</td>\n",
       "    </tr>\n",
       "    <tr>\n",
       "      <th>10</th>\n",
       "      <td>nvidia</td>\n",
       "      <td>17</td>\n",
       "    </tr>\n",
       "    <tr>\n",
       "      <th>15</th>\n",
       "      <td>sony</td>\n",
       "      <td>16</td>\n",
       "    </tr>\n",
       "    <tr>\n",
       "      <th>22</th>\n",
       "      <td>xiaomi</td>\n",
       "      <td>7</td>\n",
       "    </tr>\n",
       "    <tr>\n",
       "      <th>4</th>\n",
       "      <td>hp</td>\n",
       "      <td>6</td>\n",
       "    </tr>\n",
       "    <tr>\n",
       "      <th>19</th>\n",
       "      <td>vizio</td>\n",
       "      <td>6</td>\n",
       "    </tr>\n",
       "    <tr>\n",
       "      <th>6</th>\n",
       "      <td>insignia</td>\n",
       "      <td>5</td>\n",
       "    </tr>\n",
       "    <tr>\n",
       "      <th>11</th>\n",
       "      <td>onkyo</td>\n",
       "      <td>5</td>\n",
       "    </tr>\n",
       "    <tr>\n",
       "      <th>13</th>\n",
       "      <td>pioneer</td>\n",
       "      <td>4</td>\n",
       "    </tr>\n",
       "    <tr>\n",
       "      <th>12</th>\n",
       "      <td>philips</td>\n",
       "      <td>2</td>\n",
       "    </tr>\n",
       "    <tr>\n",
       "      <th>18</th>\n",
       "      <td>tplink</td>\n",
       "      <td>2</td>\n",
       "    </tr>\n",
       "    <tr>\n",
       "      <th>9</th>\n",
       "      <td>lutron</td>\n",
       "      <td>1</td>\n",
       "    </tr>\n",
       "    <tr>\n",
       "      <th>5</th>\n",
       "      <td>idevices</td>\n",
       "      <td>1</td>\n",
       "    </tr>\n",
       "    <tr>\n",
       "      <th>1</th>\n",
       "      <td>amcrest</td>\n",
       "      <td>1</td>\n",
       "    </tr>\n",
       "    <tr>\n",
       "      <th>7</th>\n",
       "      <td>lg</td>\n",
       "      <td>1</td>\n",
       "    </tr>\n",
       "    <tr>\n",
       "      <th>2</th>\n",
       "      <td>cisco</td>\n",
       "      <td>1</td>\n",
       "    </tr>\n",
       "    <tr>\n",
       "      <th>16</th>\n",
       "      <td>synology</td>\n",
       "      <td>1</td>\n",
       "    </tr>\n",
       "    <tr>\n",
       "      <th>17</th>\n",
       "      <td>tesla</td>\n",
       "      <td>1</td>\n",
       "    </tr>\n",
       "    <tr>\n",
       "      <th>8</th>\n",
       "      <td>logitech</td>\n",
       "      <td>1</td>\n",
       "    </tr>\n",
       "    <tr>\n",
       "      <th>20</th>\n",
       "      <td>western digital</td>\n",
       "      <td>1</td>\n",
       "    </tr>\n",
       "    <tr>\n",
       "      <th>21</th>\n",
       "      <td>wink</td>\n",
       "      <td>1</td>\n",
       "    </tr>\n",
       "  </tbody>\n",
       "</table>\n",
       "</div>"
      ],
      "text/plain": [
       "      device_vendor  num_unique_dev\n",
       "3            google             379\n",
       "0            amazon              22\n",
       "14          samsung              20\n",
       "10           nvidia              17\n",
       "15             sony              16\n",
       "22           xiaomi               7\n",
       "4                hp               6\n",
       "19            vizio               6\n",
       "6          insignia               5\n",
       "11            onkyo               5\n",
       "13          pioneer               4\n",
       "12          philips               2\n",
       "18           tplink               2\n",
       "9            lutron               1\n",
       "5          idevices               1\n",
       "1           amcrest               1\n",
       "7                lg               1\n",
       "2             cisco               1\n",
       "16         synology               1\n",
       "17            tesla               1\n",
       "8          logitech               1\n",
       "20  western digital               1\n",
       "21             wink               1"
      ]
     },
     "execution_count": 21,
     "metadata": {},
     "output_type": "execute_result"
    }
   ],
   "source": [
    "cipher_grease_merge.groupby('device_vendor')['device_id'].agg(lambda x: x.nunique()).reset_index(name='num_unique_dev')\\\n",
    "                   .sort_values(by='num_unique_dev', ascending=False)"
   ]
  },
  {
   "cell_type": "code",
   "execution_count": 22,
   "id": "accepted-opposition",
   "metadata": {},
   "outputs": [
    {
     "name": "stdout",
     "output_type": "stream",
     "text": [
      "processing  128  ...\n"
     ]
    }
   ],
   "source": [
    "exten_grease = pd.DataFrame()\n",
    "batch_no=1\n",
    "\n",
    "for chunk in pd.read_csv('../../tls_handshake1.csv.gz',chunksize=chunk_size, compression='gzip', error_bad_lines=False, \\\n",
    "                         usecols=['device_id', 'extension_uses_grease']): \n",
    "    print (\"processing \", batch_no, \" ...\")\n",
    "\n",
    "    chunk = chunk.loc[chunk['extension_uses_grease'].notna()]\n",
    "    chunk['device_id'] = chunk['device_id'].apply(lambda x: str(x).replace(' ', ''))\n",
    "    chunk = chunk.drop_duplicates()\n",
    "     \n",
    "    exten_grease = exten_grease.append(chunk)\n",
    "    exten_grease = exten_grease.drop_duplicates()\n",
    "  \n",
    "    batch_no+=1\n",
    "    clear_output(wait=True)"
   ]
  },
  {
   "cell_type": "code",
   "execution_count": 23,
   "id": "chemical-violence",
   "metadata": {},
   "outputs": [
    {
     "data": {
      "text/plain": [
       "(6306, 2)"
      ]
     },
     "execution_count": 23,
     "metadata": {},
     "output_type": "execute_result"
    }
   ],
   "source": [
    "exten_grease.shape"
   ]
  },
  {
   "cell_type": "code",
   "execution_count": 24,
   "id": "powerful-syntax",
   "metadata": {},
   "outputs": [
    {
     "data": {
      "text/plain": [
       "(6306,)"
      ]
     },
     "execution_count": 24,
     "metadata": {},
     "output_type": "execute_result"
    }
   ],
   "source": [
    "exten_grease['device_id'].value_counts().shape"
   ]
  },
  {
   "cell_type": "code",
   "execution_count": 25,
   "id": "partial-fireplace",
   "metadata": {},
   "outputs": [],
   "source": [
    "exten_grease_merge = pd.merge(exten_grease, names, on='device_id', how='inner')"
   ]
  },
  {
   "cell_type": "code",
   "execution_count": 26,
   "id": "electronic-external",
   "metadata": {},
   "outputs": [
    {
     "data": {
      "text/plain": [
       "(503,)"
      ]
     },
     "execution_count": 26,
     "metadata": {},
     "output_type": "execute_result"
    }
   ],
   "source": [
    "exten_grease_merge['device_id'].value_counts().shape"
   ]
  },
  {
   "cell_type": "code",
   "execution_count": 28,
   "id": "suited-factor",
   "metadata": {},
   "outputs": [
    {
     "data": {
      "text/html": [
       "<div>\n",
       "<style scoped>\n",
       "    .dataframe tbody tr th:only-of-type {\n",
       "        vertical-align: middle;\n",
       "    }\n",
       "\n",
       "    .dataframe tbody tr th {\n",
       "        vertical-align: top;\n",
       "    }\n",
       "\n",
       "    .dataframe thead th {\n",
       "        text-align: right;\n",
       "    }\n",
       "</style>\n",
       "<table border=\"1\" class=\"dataframe\">\n",
       "  <thead>\n",
       "    <tr style=\"text-align: right;\">\n",
       "      <th></th>\n",
       "      <th>device_vendor</th>\n",
       "      <th>num_unique_dev</th>\n",
       "    </tr>\n",
       "  </thead>\n",
       "  <tbody>\n",
       "    <tr>\n",
       "      <th>3</th>\n",
       "      <td>google</td>\n",
       "      <td>380</td>\n",
       "    </tr>\n",
       "    <tr>\n",
       "      <th>0</th>\n",
       "      <td>amazon</td>\n",
       "      <td>23</td>\n",
       "    </tr>\n",
       "    <tr>\n",
       "      <th>14</th>\n",
       "      <td>samsung</td>\n",
       "      <td>20</td>\n",
       "    </tr>\n",
       "    <tr>\n",
       "      <th>10</th>\n",
       "      <td>nvidia</td>\n",
       "      <td>17</td>\n",
       "    </tr>\n",
       "    <tr>\n",
       "      <th>15</th>\n",
       "      <td>sony</td>\n",
       "      <td>16</td>\n",
       "    </tr>\n",
       "    <tr>\n",
       "      <th>22</th>\n",
       "      <td>xiaomi</td>\n",
       "      <td>7</td>\n",
       "    </tr>\n",
       "    <tr>\n",
       "      <th>4</th>\n",
       "      <td>hp</td>\n",
       "      <td>6</td>\n",
       "    </tr>\n",
       "    <tr>\n",
       "      <th>19</th>\n",
       "      <td>vizio</td>\n",
       "      <td>6</td>\n",
       "    </tr>\n",
       "    <tr>\n",
       "      <th>6</th>\n",
       "      <td>insignia</td>\n",
       "      <td>5</td>\n",
       "    </tr>\n",
       "    <tr>\n",
       "      <th>11</th>\n",
       "      <td>onkyo</td>\n",
       "      <td>5</td>\n",
       "    </tr>\n",
       "    <tr>\n",
       "      <th>13</th>\n",
       "      <td>pioneer</td>\n",
       "      <td>4</td>\n",
       "    </tr>\n",
       "    <tr>\n",
       "      <th>12</th>\n",
       "      <td>philips</td>\n",
       "      <td>2</td>\n",
       "    </tr>\n",
       "    <tr>\n",
       "      <th>18</th>\n",
       "      <td>tplink</td>\n",
       "      <td>2</td>\n",
       "    </tr>\n",
       "    <tr>\n",
       "      <th>9</th>\n",
       "      <td>lutron</td>\n",
       "      <td>1</td>\n",
       "    </tr>\n",
       "    <tr>\n",
       "      <th>5</th>\n",
       "      <td>idevices</td>\n",
       "      <td>1</td>\n",
       "    </tr>\n",
       "    <tr>\n",
       "      <th>1</th>\n",
       "      <td>amcrest</td>\n",
       "      <td>1</td>\n",
       "    </tr>\n",
       "    <tr>\n",
       "      <th>7</th>\n",
       "      <td>lg</td>\n",
       "      <td>1</td>\n",
       "    </tr>\n",
       "    <tr>\n",
       "      <th>2</th>\n",
       "      <td>cisco</td>\n",
       "      <td>1</td>\n",
       "    </tr>\n",
       "    <tr>\n",
       "      <th>16</th>\n",
       "      <td>synology</td>\n",
       "      <td>1</td>\n",
       "    </tr>\n",
       "    <tr>\n",
       "      <th>17</th>\n",
       "      <td>tesla</td>\n",
       "      <td>1</td>\n",
       "    </tr>\n",
       "    <tr>\n",
       "      <th>8</th>\n",
       "      <td>logitech</td>\n",
       "      <td>1</td>\n",
       "    </tr>\n",
       "    <tr>\n",
       "      <th>20</th>\n",
       "      <td>western digital</td>\n",
       "      <td>1</td>\n",
       "    </tr>\n",
       "    <tr>\n",
       "      <th>21</th>\n",
       "      <td>wink</td>\n",
       "      <td>1</td>\n",
       "    </tr>\n",
       "  </tbody>\n",
       "</table>\n",
       "</div>"
      ],
      "text/plain": [
       "      device_vendor  num_unique_dev\n",
       "3            google             380\n",
       "0            amazon              23\n",
       "14          samsung              20\n",
       "10           nvidia              17\n",
       "15             sony              16\n",
       "22           xiaomi               7\n",
       "4                hp               6\n",
       "19            vizio               6\n",
       "6          insignia               5\n",
       "11            onkyo               5\n",
       "13          pioneer               4\n",
       "12          philips               2\n",
       "18           tplink               2\n",
       "9            lutron               1\n",
       "5          idevices               1\n",
       "1           amcrest               1\n",
       "7                lg               1\n",
       "2             cisco               1\n",
       "16         synology               1\n",
       "17            tesla               1\n",
       "8          logitech               1\n",
       "20  western digital               1\n",
       "21             wink               1"
      ]
     },
     "execution_count": 28,
     "metadata": {},
     "output_type": "execute_result"
    }
   ],
   "source": [
    "exten_grease_merge.groupby('device_vendor')['device_id'].agg(lambda x: x.nunique()).reset_index(name='num_unique_dev')\\\n",
    "                   .sort_values(by='num_unique_dev', ascending=False)"
   ]
  },
  {
   "cell_type": "code",
   "execution_count": 29,
   "id": "secret-grill",
   "metadata": {},
   "outputs": [
    {
     "data": {
      "text/plain": [
       "{'s3f2ffcb5e9', 'se207ea9120'}"
      ]
     },
     "execution_count": 29,
     "metadata": {},
     "output_type": "execute_result"
    }
   ],
   "source": [
    "set(exten_grease_merge['device_id'].tolist()) - set(cipher_grease_merge['device_id'].tolist())"
   ]
  },
  {
   "cell_type": "code",
   "execution_count": 31,
   "id": "static-perspective",
   "metadata": {},
   "outputs": [
    {
     "data": {
      "text/html": [
       "<div>\n",
       "<style scoped>\n",
       "    .dataframe tbody tr th:only-of-type {\n",
       "        vertical-align: middle;\n",
       "    }\n",
       "\n",
       "    .dataframe tbody tr th {\n",
       "        vertical-align: top;\n",
       "    }\n",
       "\n",
       "    .dataframe thead th {\n",
       "        text-align: right;\n",
       "    }\n",
       "</style>\n",
       "<table border=\"1\" class=\"dataframe\">\n",
       "  <thead>\n",
       "    <tr style=\"text-align: right;\">\n",
       "      <th></th>\n",
       "      <th>device_id</th>\n",
       "      <th>device_name</th>\n",
       "      <th>device_vendor</th>\n",
       "    </tr>\n",
       "  </thead>\n",
       "  <tbody>\n",
       "    <tr>\n",
       "      <th>5195</th>\n",
       "      <td>se207ea9120</td>\n",
       "      <td>chromecast</td>\n",
       "      <td>google</td>\n",
       "    </tr>\n",
       "  </tbody>\n",
       "</table>\n",
       "</div>"
      ],
      "text/plain": [
       "        device_id device_name device_vendor\n",
       "5195  se207ea9120  chromecast        google"
      ]
     },
     "execution_count": 31,
     "metadata": {},
     "output_type": "execute_result"
    }
   ],
   "source": [
    "names.loc[names['device_id'] == 'se207ea9120']"
   ]
  },
  {
   "cell_type": "markdown",
   "id": "supported-abraham",
   "metadata": {},
   "source": [
    "### Get number of users"
   ]
  },
  {
   "cell_type": "code",
   "execution_count": 33,
   "id": "binding-roommate",
   "metadata": {},
   "outputs": [],
   "source": [
    "chunk_size=200000"
   ]
  },
  {
   "cell_type": "code",
   "execution_count": 34,
   "id": "perceived-marathon",
   "metadata": {},
   "outputs": [
    {
     "name": "stdout",
     "output_type": "stream",
     "text": [
      "processing  128  ...\n"
     ]
    }
   ],
   "source": [
    "user_keys = pd.DataFrame()\n",
    "batch_no=1\n",
    "\n",
    "for chunk in pd.read_csv('../../tls_handshake1.csv.gz',chunksize=chunk_size, compression='gzip', error_bad_lines=False, \\\n",
    "                         usecols=['device_id', 'user_key']): \n",
    "    print (\"processing \", batch_no, \" ...\")\n",
    "\n",
    "    chunk = chunk.loc[chunk['user_key'].notna()]\n",
    "    chunk['device_id'] = chunk['device_id'].apply(lambda x: str(x).replace(' ', ''))\n",
    "    chunk = chunk.drop_duplicates()\n",
    "     \n",
    "    user_keys = user_keys.append(chunk)\n",
    "    user_keys = user_keys.drop_duplicates()\n",
    "  \n",
    "    batch_no+=1\n",
    "    clear_output(wait=True)"
   ]
  },
  {
   "cell_type": "code",
   "execution_count": 35,
   "id": "sapphire-madison",
   "metadata": {},
   "outputs": [],
   "source": [
    "names = pd.read_parquet(\"../datasets/sni_used_to_generate_pcaps.parquet\")"
   ]
  },
  {
   "cell_type": "code",
   "execution_count": 37,
   "id": "protecting-freight",
   "metadata": {},
   "outputs": [
    {
     "data": {
      "text/plain": [
       "(22154, 2)"
      ]
     },
     "execution_count": 37,
     "metadata": {},
     "output_type": "execute_result"
    }
   ],
   "source": [
    "user_keys.shape"
   ]
  },
  {
   "cell_type": "code",
   "execution_count": 38,
   "id": "useful-token",
   "metadata": {},
   "outputs": [],
   "source": [
    "ids = list(set(names['device_id'].tolist()))"
   ]
  },
  {
   "cell_type": "code",
   "execution_count": 39,
   "id": "ranging-cargo",
   "metadata": {},
   "outputs": [],
   "source": [
    "user_keys_2014 = user_keys.loc[user_keys['device_id'].isin(ids)]"
   ]
  },
  {
   "cell_type": "code",
   "execution_count": 40,
   "id": "elder-bubble",
   "metadata": {},
   "outputs": [
    {
     "data": {
      "text/plain": [
       "(2028, 2)"
      ]
     },
     "execution_count": 40,
     "metadata": {},
     "output_type": "execute_result"
    }
   ],
   "source": [
    "user_keys_2014.shape"
   ]
  },
  {
   "cell_type": "code",
   "execution_count": 41,
   "id": "systematic-cannon",
   "metadata": {},
   "outputs": [
    {
     "data": {
      "text/plain": [
       "(721,)"
      ]
     },
     "execution_count": 41,
     "metadata": {},
     "output_type": "execute_result"
    }
   ],
   "source": [
    "user_keys_2014['user_key'].value_counts().shape"
   ]
  }
 ],
 "metadata": {
  "kernelspec": {
   "display_name": "Python 3",
   "language": "python",
   "name": "python3"
  },
  "language_info": {
   "codemirror_mode": {
    "name": "ipython",
    "version": 3
   },
   "file_extension": ".py",
   "mimetype": "text/x-python",
   "name": "python",
   "nbconvert_exporter": "python",
   "pygments_lexer": "ipython3",
   "version": "3.8.5"
  }
 },
 "nbformat": 4,
 "nbformat_minor": 5
}
